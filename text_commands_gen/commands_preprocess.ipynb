{
 "cells": [
  {
   "cell_type": "markdown",
   "metadata": {},
   "source": [
    "#### retreving all dataset.tt files and their commands "
   ]
  },
  {
   "cell_type": "code",
   "execution_count": 9,
   "metadata": {},
   "outputs": [],
   "source": [
    "import glob\n",
    "path = '/Users/madinaabdrakhmanova/Documents/text_commands_gen/thingpedia-common-devices-master/'\n",
    "# contains the paths to all dataset.tt files\n",
    "file_paths = [f for f in glob.glob(path + \"**/dataset.tt\", recursive=True)]"
   ]
  },
  {
   "cell_type": "code",
   "execution_count": 10,
   "metadata": {},
   "outputs": [],
   "source": [
    "commands_action = []\n",
    "for file_path in file_paths:\n",
    "    f=open(file_path, \"r\")\n",
    "    contents = f.read()\n",
    "    action_start_idx_lst = [i for i in range(len(contents)) if contents.startswith('action', i)]\n",
    "    for i in action_start_idx_lst:\n",
    "        j = contents[i:].find(\"#_[utterances=[\")\n",
    "        k = contents[i:].find(\"]]\")\n",
    "        action_strs = contents[i:][j+len(\"#_[utterances=[\"):k]\n",
    "        action_strs = action_strs.split(',')\n",
    "        #print('action_strs\\n', action_strs)\n",
    "        result = [action_str.strip().replace('\"','') for action_str in action_strs if (action_str.strip().replace('\"','') and ('$' not in action_str))]\n",
    "        #print('result\\n', result)\n",
    "        commands_action = commands_action + result"
   ]
  },
  {
   "cell_type": "code",
   "execution_count": 11,
   "metadata": {},
   "outputs": [
    {
     "name": "stdout",
     "output_type": "stream",
     "text": [
      "number of all action commands:  243\n",
      "number of all unique action commands:  243\n",
      "here is the first action command:  tweet a picture\n"
     ]
    }
   ],
   "source": [
    "print(\"number of all action commands: \",len(commands_action))\n",
    "print(\"number of all unique action commands: \",len(set(commands_action)))\n",
    "print(\"here is the first action command: \", commands_action[0])"
   ]
  },
  {
   "cell_type": "code",
   "execution_count": 12,
   "metadata": {},
   "outputs": [],
   "source": [
    "commands_query = []\n",
    "for file_path in file_paths:\n",
    "    f=open(file_path, \"r\")\n",
    "    contents =f.read()\n",
    "    action_start_idx_lst = [i for i in range(len(contents)) if contents.startswith('query', i)]\n",
    "    for i in action_start_idx_lst:\n",
    "        j = contents[i:].find(\"#_[utterances=[\")\n",
    "        k = contents[i:].find(\"]]\")\n",
    "        action_strs = contents[i:][j+len(\"#_[utterances=[\"):k]\n",
    "        action_strs = action_strs.split(',')\n",
    "        #print('action_strs\\n', action_strs)\n",
    "        \n",
    "        result = [action_str.strip().replace('\"','') for action_str in action_strs if (action_str.strip().replace('\"','') and ('$' not in action_str))]\n",
    "        #print('result\\n', result)\n",
    "        commands_query = commands_query + result"
   ]
  },
  {
   "cell_type": "code",
   "execution_count": 13,
   "metadata": {},
   "outputs": [
    {
     "name": "stdout",
     "output_type": "stream",
     "text": [
      "number of all query commands:  524\n",
      "number of all unique query commands:  500\n",
      "here is the first query command:  posts on phd comics\n"
     ]
    }
   ],
   "source": [
    "print(\"number of all query commands: \",len(commands_query))\n",
    "print(\"number of all unique query commands: \",len(set(commands_query)))\n",
    "print(\"here is the first query command: \", commands_query[0])"
   ]
  },
  {
   "cell_type": "code",
   "execution_count": 14,
   "metadata": {},
   "outputs": [],
   "source": [
    "commands_monitor = []\n",
    "for file_path in file_paths:\n",
    "    f=open(file_path, \"r\")\n",
    "    contents =f.read()\n",
    "    action_start_idx_lst = [i for i in range(len(contents)) if contents.startswith('monitor', i)]\n",
    "    for i in action_start_idx_lst:\n",
    "        j = contents[i:].find(\"#_[utterances=[\")\n",
    "        k = contents[i:].find(\"]]\")\n",
    "        action_strs = contents[i:][j+len(\"#_[utterances=[\"):k]\n",
    "        action_strs = action_strs.split(',')\n",
    "        #print('action_strs\\n', action_strs)\n",
    "        result = [action_str.strip().replace('\"','') for action_str in action_strs if (action_str.strip().replace('\"','') and ('$' not in action_str))]\n",
    "        #print('result\\n', result)\n",
    "        commands_monitor = commands_monitor + result"
   ]
  },
  {
   "cell_type": "code",
   "execution_count": 15,
   "metadata": {},
   "outputs": [
    {
     "name": "stdout",
     "output_type": "stream",
     "text": [
      "number of all monitor commands:  412\n",
      "number of all unique monitor commands:  411\n",
      "here is the first monitor command:  when there is a new post on phd comics\n"
     ]
    }
   ],
   "source": [
    "print(\"number of all monitor commands: \",len(commands_monitor))\n",
    "print(\"number of all unique monitor commands: \",len(set(commands_monitor)))\n",
    "print(\"here is the first monitor command: \", commands_monitor[0])"
   ]
  },
  {
   "cell_type": "code",
   "execution_count": 16,
   "metadata": {},
   "outputs": [],
   "source": [
    "all_commands =  list(set(commands_action))+ list(set(commands_query))+list(set(commands_monitor))"
   ]
  },
  {
   "cell_type": "markdown",
   "metadata": {},
   "source": [
    "#### saving as .csv file"
   ]
  },
  {
   "cell_type": "code",
   "execution_count": 22,
   "metadata": {},
   "outputs": [
    {
     "data": {
      "text/html": [
       "<div>\n",
       "<style scoped>\n",
       "    .dataframe tbody tr th:only-of-type {\n",
       "        vertical-align: middle;\n",
       "    }\n",
       "\n",
       "    .dataframe tbody tr th {\n",
       "        vertical-align: top;\n",
       "    }\n",
       "\n",
       "    .dataframe thead th {\n",
       "        text-align: right;\n",
       "    }\n",
       "</style>\n",
       "<table border=\"1\" class=\"dataframe\">\n",
       "  <thead>\n",
       "    <tr style=\"text-align: right;\">\n",
       "      <th></th>\n",
       "      <th>command_name</th>\n",
       "      <th>num_chars</th>\n",
       "    </tr>\n",
       "    <tr>\n",
       "      <th>command_id</th>\n",
       "      <th></th>\n",
       "      <th></th>\n",
       "    </tr>\n",
       "  </thead>\n",
       "  <tbody>\n",
       "    <tr>\n",
       "      <th>1</th>\n",
       "      <td>help me on my fan</td>\n",
       "      <td>17</td>\n",
       "    </tr>\n",
       "    <tr>\n",
       "      <th>2</th>\n",
       "      <td>lower the damper</td>\n",
       "      <td>16</td>\n",
       "    </tr>\n",
       "    <tr>\n",
       "      <th>3</th>\n",
       "      <td>turn off repeat</td>\n",
       "      <td>15</td>\n",
       "    </tr>\n",
       "    <tr>\n",
       "      <th>4</th>\n",
       "      <td>post something on facebook</td>\n",
       "      <td>26</td>\n",
       "    </tr>\n",
       "    <tr>\n",
       "      <th>5</th>\n",
       "      <td>put the curtains down</td>\n",
       "      <td>21</td>\n",
       "    </tr>\n",
       "    <tr>\n",
       "      <th>6</th>\n",
       "      <td>close my awning</td>\n",
       "      <td>15</td>\n",
       "    </tr>\n",
       "    <tr>\n",
       "      <th>7</th>\n",
       "      <td>stop the vacuum</td>\n",
       "      <td>15</td>\n",
       "    </tr>\n",
       "    <tr>\n",
       "      <th>8</th>\n",
       "      <td>lower the shades</td>\n",
       "      <td>16</td>\n",
       "    </tr>\n",
       "    <tr>\n",
       "      <th>9</th>\n",
       "      <td>open my awning for me</td>\n",
       "      <td>21</td>\n",
       "    </tr>\n",
       "    <tr>\n",
       "      <th>10</th>\n",
       "      <td>post a picture on twitter</td>\n",
       "      <td>25</td>\n",
       "    </tr>\n",
       "  </tbody>\n",
       "</table>\n",
       "</div>"
      ],
      "text/plain": [
       "                          command_name  num_chars\n",
       "command_id                                       \n",
       "1                    help me on my fan         17\n",
       "2                     lower the damper         16\n",
       "3                      turn off repeat         15\n",
       "4           post something on facebook         26\n",
       "5                put the curtains down         21\n",
       "6                      close my awning         15\n",
       "7                      stop the vacuum         15\n",
       "8                     lower the shades         16\n",
       "9                open my awning for me         21\n",
       "10           post a picture on twitter         25"
      ]
     },
     "execution_count": 22,
     "metadata": {},
     "output_type": "execute_result"
    }
   ],
   "source": [
    "import pandas as pd\n",
    "df = pd.DataFrame()\n",
    "df[\"command_name\"] = all_commands\n",
    "df[\"command_id\"] = range(1, len(all_commands)+1)\n",
    "df[\"num_chars\"] = [len(command) for command in all_commands]\n",
    "df = df.set_index('command_id')\n",
    "df.to_csv('commands.csv')\n",
    "df.head(10)"
   ]
  },
  {
   "cell_type": "markdown",
   "metadata": {},
   "source": [
    "#### saving as .mat file"
   ]
  },
  {
   "cell_type": "code",
   "execution_count": 19,
   "metadata": {},
   "outputs": [],
   "source": [
    "import scipy.io as sio\n",
    "sio.savemat('commands.mat', {\"command_name\": all_commands, \n",
    "                             \"command_id\" : range(len(all_commands)),\n",
    "                             \"num_chars\": [len(command) for command in all_commands]}) "
   ]
  },
  {
   "cell_type": "code",
   "execution_count": null,
   "metadata": {},
   "outputs": [],
   "source": []
  }
 ],
 "metadata": {
  "kernelspec": {
   "display_name": "Python 3",
   "language": "python",
   "name": "python3"
  },
  "language_info": {
   "codemirror_mode": {
    "name": "ipython",
    "version": 3
   },
   "file_extension": ".py",
   "mimetype": "text/x-python",
   "name": "python",
   "nbconvert_exporter": "python",
   "pygments_lexer": "ipython3",
   "version": "3.7.3"
  }
 },
 "nbformat": 4,
 "nbformat_minor": 2
}
