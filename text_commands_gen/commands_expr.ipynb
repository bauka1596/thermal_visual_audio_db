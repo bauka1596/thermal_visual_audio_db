{
 "cells": [
  {
   "cell_type": "code",
   "execution_count": 407,
   "metadata": {},
   "outputs": [],
   "source": [
    "import pandas as pd\n",
    "import numpy as np\n",
    "import random\n",
    "import os\n",
    "from num2words import num2words "
   ]
  },
  {
   "cell_type": "code",
   "execution_count": 408,
   "metadata": {},
   "outputs": [
    {
     "data": {
      "image/png": "[encoded data removed]",
      "text/plain": [
       "<Figure size 432x288 with 1 Axes>"
      ]
     },
     "metadata": {
      "needs_background": "light"
     },
     "output_type": "display_data"
    }
   ],
   "source": [
    "data = pd.read_csv(\"csvs/commands_v1.csv\") \n",
    "ax = data[\"num_chars\"].hist(bins = 30)"
   ]
  },
  {
   "cell_type": "code",
   "execution_count": 409,
   "metadata": {},
   "outputs": [
    {
     "data": {
      "text/plain": [
       "'open my window for me'"
      ]
     },
     "execution_count": 409,
     "metadata": {},
     "output_type": "execute_result"
    }
   ],
   "source": [
    "#data =  data.set_index('command_id')\n",
    "data.loc[1].command_name # the explicit index is command_id that starts with 1!"
   ]
  },
  {
   "cell_type": "code",
   "execution_count": 410,
   "metadata": {},
   "outputs": [
    {
     "data": {
      "text/plain": [
       "RangeIndex(start=0, stop=1050, step=1)"
      ]
     },
     "execution_count": 410,
     "metadata": {},
     "output_type": "execute_result"
    }
   ],
   "source": [
    "data.index"
   ]
  },
  {
   "cell_type": "code",
   "execution_count": 438,
   "metadata": {},
   "outputs": [],
   "source": [
    "num_copies = 2\n",
    "ids = []\n",
    "for i in range(num_copies):\n",
    "    ids_curr =  list(data.index) # based on command_id\n",
    "    random.shuffle(ids_curr)\n",
    "    ids = ids + ids_curr\n",
    "ids = np.array(ids)"
   ]
  },
  {
   "cell_type": "code",
   "execution_count": 444,
   "metadata": {},
   "outputs": [
    {
     "name": "stdout",
     "output_type": "stream",
     "text": [
      "Successfully created the directory /Users/madinaabdrakhmanova/Documents/text_commands_gen/csvs/v1/fpc5/ \n"
     ]
    }
   ],
   "source": [
    "frames_per_char = 5\n",
    "max_num_frames = 900\n",
    "num_pos = 9\n",
    "num_trials = 2\n",
    "\n",
    "path = os.getcwd()+\"/csvs/v1/fpc{}/\".format(frames_per_char)\n",
    "if (not os.path.isdir(path)):\n",
    "    try:\n",
    "        os.mkdir(path)\n",
    "    except OSError:\n",
    "        print (\"Creation of the directory %s failed\" % path)\n",
    "    else:\n",
    "        print (\"Successfully created the directory %s \" % path)"
   ]
  },
  {
   "cell_type": "code",
   "execution_count": 445,
   "metadata": {},
   "outputs": [
    {
     "data": {
      "text/plain": [
       "120"
      ]
     },
     "execution_count": 445,
     "metadata": {},
     "output_type": "execute_result"
    }
   ],
   "source": [
    "data.loc[ids[0]].num_chars*frames_per_char"
   ]
  },
  {
   "cell_type": "code",
   "execution_count": 446,
   "metadata": {},
   "outputs": [],
   "source": [
    "df = pd.DataFrame(columns = [\"command_name\",\"command_id\",\"set_id\",\"pos_id\",\"expr_id\",'subject_id','trial_id',\"start_fr_id\", \"end_fr_id\"])\n",
    "df['command_id'] = ids\n",
    "\n",
    "i = 0\n",
    "set_id = 1\n",
    "while i<len(ids):\n",
    "    t = i\n",
    "    cum_command_num_fr = 1\n",
    "    for j in range(i, len(ids)):\n",
    "        curr_command_num_fr = data.loc[ids[j]].num_chars*frames_per_char\n",
    "        if(cum_command_num_fr + curr_command_num_fr > max_num_frames):\n",
    "            #print('max_num_frames - cum_command_num_fr: ', max_num_frames - cum_command_num_fr)\n",
    "            #print('j-t: ',j-t)\n",
    "            diff = np.ceil((max_num_frames - cum_command_num_fr)/(j-t))\n",
    "            #print('diff: ',diff)\n",
    "            \n",
    "            temp_end = df[df.set_id==set_id].loc[:,'end_fr_id']\n",
    "            temp_start = df[df.set_id==set_id].loc[:,'start_fr_id']\n",
    "            #print('temp_start:\\n',temp_start)\n",
    "            #print('temp_end:\\n',temp_end)\n",
    "            \n",
    "            diff_end = np.arange(1,len(temp_end)+1)*diff\n",
    "            diff_start = np.arange(0,len(temp_end))*diff\n",
    "            #print('diff_end:\\n', diff_end)\n",
    "            #print('diff_start:\\n', diff_start)\n",
    "            \n",
    "            #print('temp_end+diff_end:\\n', temp_end+diff_end)\n",
    "            #print('temp_start+diff_start:\\n', temp_start+diff_start)\n",
    "            \n",
    "            df.update(temp_end+diff_end)\n",
    "            df.update(temp_start+diff_start)\n",
    "\n",
    "            set_id += 1\n",
    "            break\n",
    "        else:\n",
    "            df.loc[i, 'start_fr_id'] = cum_command_num_fr  \n",
    "            cum_command_num_fr += curr_command_num_fr\n",
    "            #print(curr_command_num_fr)\n",
    "            df.loc[i, 'end_fr_id'] = cum_command_num_fr - 1 \n",
    "            df.loc[i, 'set_id']= set_id\n",
    "            df.loc[i, 'pos_id'] = (set_id-1)%num_pos+1\n",
    "            df.loc[i, 'expr_id'] = int((set_id-1)/num_pos)+1\n",
    "            df.loc[i, 'command_name'] = data.loc[ids[j]].command_name\n",
    "            df.loc[i, 'subject_id'] = int((set_id-1)/num_pos/num_trials) + 1\n",
    "            df.loc[i, 'trial_id'] = int((set_id-1)/num_pos)%num_trials + 1           \n",
    "            i+=1"
   ]
  },
  {
   "cell_type": "code",
   "execution_count": 447,
   "metadata": {},
   "outputs": [],
   "source": [
    "df.to_csv(path+'commands_sub_all_v1_fpc{}.csv'.format(frames_per_char))"
   ]
  },
  {
   "cell_type": "code",
   "execution_count": 448,
   "metadata": {},
   "outputs": [
    {
     "name": "stderr",
     "output_type": "stream",
     "text": [
      "/anaconda3/lib/python3.7/site-packages/ipykernel_launcher.py:4: UserWarning: Boolean Series key will be reindexed to match DataFrame index.\n",
      "  after removing the cwd from sys.path.\n",
      "/anaconda3/lib/python3.7/site-packages/ipykernel_launcher.py:6: UserWarning: Boolean Series key will be reindexed to match DataFrame index.\n",
      "  \n"
     ]
    }
   ],
   "source": [
    "for s_id in df.subject_id.unique():\n",
    "    df_sub = df[df.subject_id==s_id]\n",
    "    df_sub = df_sub.drop(columns=['set_id', 'expr_id'])\n",
    "    df_sub_1 = df_sub[df.trial_id==1].copy()\n",
    "    df_sub_1 = df_sub_1.drop(columns=['subject_id', 'trial_id'])\n",
    "    df_sub_2 = df_sub[df.trial_id==2].copy()\n",
    "    df_sub_2 = df_sub_2.drop(columns=['subject_id', 'trial_id'])\n",
    "    df_sub_1.to_csv(path+'commands_sub{}_trial{}.csv'.format(s_id,1,frames_per_char))\n",
    "    df_sub_2.to_csv(path+'commands_sub{}_trial{}.csv'.format(s_id,2,frames_per_char))"
   ]
  },
  {
   "cell_type": "code",
   "execution_count": 449,
   "metadata": {},
   "outputs": [
    {
     "data": {
      "text/html": [
       "<div>\n",
       "<style scoped>\n",
       "    .dataframe tbody tr th:only-of-type {\n",
       "        vertical-align: middle;\n",
       "    }\n",
       "\n",
       "    .dataframe tbody tr th {\n",
       "        vertical-align: top;\n",
       "    }\n",
       "\n",
       "    .dataframe thead th {\n",
       "        text-align: right;\n",
       "    }\n",
       "</style>\n",
       "<table border=\"1\" class=\"dataframe\">\n",
       "  <thead>\n",
       "    <tr style=\"text-align: right;\">\n",
       "      <th></th>\n",
       "      <th>command_name</th>\n",
       "      <th>command_id</th>\n",
       "      <th>set_id</th>\n",
       "      <th>pos_id</th>\n",
       "      <th>expr_id</th>\n",
       "      <th>subject_id</th>\n",
       "      <th>trial_id</th>\n",
       "      <th>start_fr_id</th>\n",
       "      <th>end_fr_id</th>\n",
       "    </tr>\n",
       "  </thead>\n",
       "  <tbody>\n",
       "    <tr>\n",
       "      <th>0</th>\n",
       "      <td>science youtube channels</td>\n",
       "      <td>697</td>\n",
       "      <td>1</td>\n",
       "      <td>1</td>\n",
       "      <td>1</td>\n",
       "      <td>1</td>\n",
       "      <td>1</td>\n",
       "      <td>1</td>\n",
       "      <td>133</td>\n",
       "    </tr>\n",
       "    <tr>\n",
       "      <th>1</th>\n",
       "      <td>breaking news on fortune</td>\n",
       "      <td>734</td>\n",
       "      <td>1</td>\n",
       "      <td>1</td>\n",
       "      <td>1</td>\n",
       "      <td>1</td>\n",
       "      <td>1</td>\n",
       "      <td>134</td>\n",
       "      <td>266</td>\n",
       "    </tr>\n",
       "    <tr>\n",
       "      <th>2</th>\n",
       "      <td>upload a picture to facebook</td>\n",
       "      <td>298</td>\n",
       "      <td>1</td>\n",
       "      <td>1</td>\n",
       "      <td>1</td>\n",
       "      <td>1</td>\n",
       "      <td>1</td>\n",
       "      <td>267</td>\n",
       "      <td>419</td>\n",
       "    </tr>\n",
       "    <tr>\n",
       "      <th>3</th>\n",
       "      <td>turn off the vacuum cleaner</td>\n",
       "      <td>121</td>\n",
       "      <td>1</td>\n",
       "      <td>1</td>\n",
       "      <td>1</td>\n",
       "      <td>1</td>\n",
       "      <td>1</td>\n",
       "      <td>420</td>\n",
       "      <td>567</td>\n",
       "    </tr>\n",
       "    <tr>\n",
       "      <th>4</th>\n",
       "      <td>whether anyone closed the window</td>\n",
       "      <td>977</td>\n",
       "      <td>1</td>\n",
       "      <td>1</td>\n",
       "      <td>1</td>\n",
       "      <td>1</td>\n",
       "      <td>1</td>\n",
       "      <td>568</td>\n",
       "      <td>740</td>\n",
       "    </tr>\n",
       "  </tbody>\n",
       "</table>\n",
       "</div>"
      ],
      "text/plain": [
       "                       command_name  command_id  set_id  pos_id  expr_id  \\\n",
       "0          science youtube channels         697       1       1        1   \n",
       "1          breaking news on fortune         734       1       1        1   \n",
       "2      upload a picture to facebook         298       1       1        1   \n",
       "3       turn off the vacuum cleaner         121       1       1        1   \n",
       "4  whether anyone closed the window         977       1       1        1   \n",
       "\n",
       "   subject_id  trial_id start_fr_id end_fr_id  \n",
       "0           1         1           1       133  \n",
       "1           1         1         134       266  \n",
       "2           1         1         267       419  \n",
       "3           1         1         420       567  \n",
       "4           1         1         568       740  "
      ]
     },
     "execution_count": 449,
     "metadata": {},
     "output_type": "execute_result"
    }
   ],
   "source": [
    "df.head()"
   ]
  },
  {
   "cell_type": "code",
   "execution_count": 451,
   "metadata": {},
   "outputs": [
    {
     "data": {
      "text/html": [
       "<div>\n",
       "<style scoped>\n",
       "    .dataframe tbody tr th:only-of-type {\n",
       "        vertical-align: middle;\n",
       "    }\n",
       "\n",
       "    .dataframe tbody tr th {\n",
       "        vertical-align: top;\n",
       "    }\n",
       "\n",
       "    .dataframe thead th {\n",
       "        text-align: right;\n",
       "    }\n",
       "</style>\n",
       "<table border=\"1\" class=\"dataframe\">\n",
       "  <thead>\n",
       "    <tr style=\"text-align: right;\">\n",
       "      <th></th>\n",
       "      <th>command_name</th>\n",
       "      <th>command_id</th>\n",
       "      <th>set_id</th>\n",
       "      <th>pos_id</th>\n",
       "      <th>expr_id</th>\n",
       "      <th>subject_id</th>\n",
       "      <th>trial_id</th>\n",
       "      <th>start_fr_id</th>\n",
       "      <th>end_fr_id</th>\n",
       "    </tr>\n",
       "  </thead>\n",
       "  <tbody>\n",
       "    <tr>\n",
       "      <th>2095</th>\n",
       "      <td>decrease volume on my speaker</td>\n",
       "      <td>25</td>\n",
       "      <td>339</td>\n",
       "      <td>6</td>\n",
       "      <td>38</td>\n",
       "      <td>19</td>\n",
       "      <td>2</td>\n",
       "      <td>630</td>\n",
       "      <td>800</td>\n",
       "    </tr>\n",
       "    <tr>\n",
       "      <th>2096</th>\n",
       "      <td>all my rss feed</td>\n",
       "      <td>913</td>\n",
       "      <td>339</td>\n",
       "      <td>6</td>\n",
       "      <td>38</td>\n",
       "      <td>19</td>\n",
       "      <td>2</td>\n",
       "      <td>801</td>\n",
       "      <td>901</td>\n",
       "    </tr>\n",
       "    <tr>\n",
       "      <th>2097</th>\n",
       "      <td>set the power on my lg tv to on</td>\n",
       "      <td>317</td>\n",
       "      <td>340</td>\n",
       "      <td>7</td>\n",
       "      <td>38</td>\n",
       "      <td>19</td>\n",
       "      <td>2</td>\n",
       "      <td>1</td>\n",
       "      <td>155</td>\n",
       "    </tr>\n",
       "    <tr>\n",
       "      <th>2098</th>\n",
       "      <td>the step count from fitbit</td>\n",
       "      <td>888</td>\n",
       "      <td>340</td>\n",
       "      <td>7</td>\n",
       "      <td>38</td>\n",
       "      <td>19</td>\n",
       "      <td>2</td>\n",
       "      <td>156</td>\n",
       "      <td>285</td>\n",
       "    </tr>\n",
       "    <tr>\n",
       "      <th>2099</th>\n",
       "      <td>put the shades up</td>\n",
       "      <td>238</td>\n",
       "      <td>340</td>\n",
       "      <td>7</td>\n",
       "      <td>38</td>\n",
       "      <td>19</td>\n",
       "      <td>2</td>\n",
       "      <td>286</td>\n",
       "      <td>370</td>\n",
       "    </tr>\n",
       "  </tbody>\n",
       "</table>\n",
       "</div>"
      ],
      "text/plain": [
       "                         command_name  command_id  set_id  pos_id  expr_id  \\\n",
       "2095    decrease volume on my speaker          25     339       6       38   \n",
       "2096                  all my rss feed         913     339       6       38   \n",
       "2097  set the power on my lg tv to on         317     340       7       38   \n",
       "2098       the step count from fitbit         888     340       7       38   \n",
       "2099                put the shades up         238     340       7       38   \n",
       "\n",
       "      subject_id  trial_id start_fr_id end_fr_id  \n",
       "2095          19         2         630       800  \n",
       "2096          19         2         801       901  \n",
       "2097          19         2           1       155  \n",
       "2098          19         2         156       285  \n",
       "2099          19         2         286       370  "
      ]
     },
     "execution_count": 451,
     "metadata": {},
     "output_type": "execute_result"
    }
   ],
   "source": [
    "df.tail()"
   ]
  },
  {
   "cell_type": "code",
   "execution_count": null,
   "metadata": {},
   "outputs": [],
   "source": []
  }
 ],
 "metadata": {
  "kernelspec": {
   "display_name": "Python 3",
   "language": "python",
   "name": "python3"
  },
  "language_info": {
   "codemirror_mode": {
    "name": "ipython",
    "version": 3
   },
   "file_extension": ".py",
   "mimetype": "text/x-python",
   "name": "python",
   "nbconvert_exporter": "python",
   "pygments_lexer": "ipython3",
   "version": "3.7.3"
  }
 },
 "nbformat": 4,
 "nbformat_minor": 2
}
