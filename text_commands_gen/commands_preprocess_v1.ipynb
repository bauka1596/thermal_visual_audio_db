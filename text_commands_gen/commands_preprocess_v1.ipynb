{
 "cells": [
  {
   "cell_type": "markdown",
   "metadata": {},
   "source": [
    "#### retreving all dataset.tt files and their commands "
   ]
  },
  {
   "cell_type": "code",
   "execution_count": 2,
   "metadata": {},
   "outputs": [],
   "source": [
    "import glob\n",
    "path = '/Users/madinaabdrakhmanova/Documents/text_commands_gen/thingpedia-common-devices-master/'\n",
    "file_paths = [f for f in glob.glob(path + '**/dataset.tt', recursive=True)]"
   ]
  },
  {
   "cell_type": "code",
   "execution_count": 3,
   "metadata": {},
   "outputs": [],
   "source": [
    "def isEnum(contents, ind):\n",
    "    l = contents[ind:].find(\"Enum(\")\n",
    "    r = contents[ind:].find(\")\")\n",
    "    enum_strs = []\n",
    "    if (int(l) != -1 and int(r) != -1 and r > l): \n",
    "        enum_strs = contents[ind:][l+len(\"Enum(\"):r]\n",
    "        enum_strs = enum_strs.split(\",\")\n",
    "    return enum_strs"
   ]
  },
  {
   "cell_type": "code",
   "execution_count": 4,
   "metadata": {},
   "outputs": [],
   "source": [
    "def findEnum(action_str):\n",
    "    ind = action_str.find('$')\n",
    "    res = ''\n",
    "    while (ind < len(action_str) and action_str[ind] != ' ' and action_str[ind] != '\"'):\n",
    "        res = res + action_str[ind]\n",
    "        ind += 1\n",
    "    return res"
   ]
  },
  {
   "cell_type": "code",
   "execution_count": 5,
   "metadata": {},
   "outputs": [],
   "source": [
    "def subst_enum(action_strs, enum_strs):\n",
    "    result = []\n",
    "    for action_str in action_strs:\n",
    "        if ('$' in action_str and len(enum_strs) > 0):\n",
    "            '''\n",
    "            u = action_str.find('$')\n",
    "            v = action_str.find('}')\n",
    "            rep = action_str[u:v+1]\n",
    "            '''\n",
    "            rep = findEnum(action_str)\n",
    "            for enum_str in enum_strs:\n",
    "                #print(\"before\\n\", action_str)\n",
    "                action_str_rep = action_str.replace(rep,enum_str)\n",
    "                #print(\"after\\n\", action_str_rep)\n",
    "                if ('$' not in action_str_rep): result.append(action_str_rep.strip().replace('\"',''))\n",
    "        elif ('$' not in action_str):\n",
    "            result.append(action_str.strip().replace('\"',''))\n",
    "    return result"
   ]
  },
  {
   "cell_type": "code",
   "execution_count": 6,
   "metadata": {},
   "outputs": [],
   "source": [
    "commands_action = []\n",
    "for file_path in file_paths:\n",
    "    f=open(file_path, \"r\")\n",
    "    contents =f.read()\n",
    "    action_start_idx_lst = [i for i in range(len(contents)) if contents.startswith('action', i)]\n",
    "    variable_set = []\n",
    "    for i in action_start_idx_lst:   \n",
    "        enum_strs = isEnum(contents, i)\n",
    "        j = contents[i:].find(\"#_[utterances=[\")\n",
    "        k = contents[i:].find(\"]]\")\n",
    "        action_strs = contents[i:][j+len(\"#_[utterances=[\"):k]\n",
    "        action_strs = action_strs.split(',')\n",
    "        #print('action_strs\\n', action_strs)\n",
    "        result = []\n",
    "        if(len(enum_strs) > 0): result = subst_enum(action_strs, enum_strs)\n",
    "        else: result = [action_str.strip().replace('\"','') for action_str in action_strs if (action_str.strip().replace('\"','') and ('$' not in action_str))]\n",
    "        commands_action = commands_action + result"
   ]
  },
  {
   "cell_type": "code",
   "execution_count": 29,
   "metadata": {},
   "outputs": [
    {
     "name": "stdout",
     "output_type": "stream",
     "text": [
      "number of all action commands:  350\n",
      "number of all unique action commands:  331\n",
      "here is the first action command:  tweet a picture\n"
     ]
    },
    {
     "data": {
      "text/plain": [
       "[]"
      ]
     },
     "execution_count": 29,
     "metadata": {},
     "output_type": "execute_result"
    }
   ],
   "source": [
    "print(\"number of all action commands: \",len(commands_action))\n",
    "print(\"number of all unique action commands: \",len(set(commands_action)))\n",
    "print(\"here is the first action command: \", commands_action[0])\n",
    "[l for l in commands_action if (len(l.split())<2)]"
   ]
  },
  {
   "cell_type": "code",
   "execution_count": 42,
   "metadata": {},
   "outputs": [
    {
     "data": {
      "text/plain": [
       "[]"
      ]
     },
     "execution_count": 42,
     "metadata": {},
     "output_type": "execute_result"
    }
   ],
   "source": [
    "import re\n",
    "[c for c in commands_action if (len(re.findall(r'\\d+',c))>0)]"
   ]
  },
  {
   "cell_type": "code",
   "execution_count": 8,
   "metadata": {},
   "outputs": [],
   "source": [
    "commands_query = []\n",
    "for file_path in file_paths:\n",
    "    f=open(file_path, \"r\")\n",
    "    contents =f.read()\n",
    "    action_start_idx_lst = [i for i in range(len(contents)) if contents.startswith('query', i)]\n",
    "    for i in action_start_idx_lst:\n",
    "        enum_strs = isEnum(contents, i)\n",
    "        j = contents[i:].find(\"#_[utterances=[\")\n",
    "        k = contents[i:].find(\"]]\")\n",
    "        action_strs = contents[i:][j+len(\"#_[utterances=[\"):k]\n",
    "        action_strs = action_strs.split(',')\n",
    "        #print('action_strs\\n', action_strs)\n",
    "        if (len(enum_strs) > 0): result = subst_enum(action_strs, enum_strs)\n",
    "        else: result = [action_str.strip().replace('\"','') for action_str in action_strs if (action_str.strip().replace('\"','') and ('$' not in action_str))]\n",
    "        #print('result\\n', result)\n",
    "        commands_query = commands_query + result"
   ]
  },
  {
   "cell_type": "code",
   "execution_count": 15,
   "metadata": {},
   "outputs": [
    {
     "name": "stdout",
     "output_type": "stream",
     "text": [
      "number of all query commands:  753\n",
      "number of all unique query commands:  729\n",
      "here is the first query command:  posts on phd comics\n",
      "posts on phd comics\n"
     ]
    }
   ],
   "source": [
    "print(\"number of all query commands: \",len(commands_query))\n",
    "print(\"number of all unique query commands: \",len(set(commands_query)))\n",
    "print(\"here is the first query command: \", commands_query[0])\n"
   ]
  },
  {
   "cell_type": "code",
   "execution_count": 31,
   "metadata": {},
   "outputs": [],
   "source": [
    "commands_query_f = [l for l in commands_query if (len(l)>2)]"
   ]
  },
  {
   "cell_type": "code",
   "execution_count": 34,
   "metadata": {},
   "outputs": [],
   "source": [
    "commands_query_f = [l for l in commands_query_f if (len(l.split())>1)]"
   ]
  },
  {
   "cell_type": "code",
   "execution_count": 53,
   "metadata": {},
   "outputs": [
    {
     "name": "stdout",
     "output_type": "stream",
     "text": [
      "posts on matrix sixty seven\n",
      "latest posts on matrix sixty seven\n",
      "posts on matrix sixty seven blog\n",
      "cs two nine four s class slides\n",
      "cs two nine four s slides\n",
      "cs two nine four s class materials\n",
      "cs two nine four w class slides\n",
      "cs two nine four w slides\n"
     ]
    }
   ],
   "source": [
    "new_commands_query_f = []\n",
    "for c in commands_query_f:\n",
    "    if \"matrix67\" in c:\n",
    "        c = c.replace('matrix67','matrix sixty seven')\n",
    "        print(c)\n",
    "    if \"cs294\" in c:\n",
    "        c = c.replace('cs294','cs two nine four ')\n",
    "        print(c)\n",
    "        \n",
    "    new_commands_query_f.append(c)"
   ]
  },
  {
   "cell_type": "code",
   "execution_count": 54,
   "metadata": {},
   "outputs": [
    {
     "data": {
      "text/plain": [
       "[]"
      ]
     },
     "execution_count": 54,
     "metadata": {},
     "output_type": "execute_result"
    }
   ],
   "source": [
    "import re\n",
    "[c for c in new_commands_query_f if (len(re.findall(r'\\d+',c))>0)]\n"
   ]
  },
  {
   "cell_type": "code",
   "execution_count": 55,
   "metadata": {},
   "outputs": [
    {
     "name": "stdout",
     "output_type": "stream",
     "text": [
      "1050\n"
     ]
    }
   ],
   "source": [
    "all_commands =  list(set(commands_action))+ list(set(new_commands_query_f))\n",
    "print(len(all_commands))"
   ]
  },
  {
   "cell_type": "markdown",
   "metadata": {},
   "source": [
    "#### saving as .csv file"
   ]
  },
  {
   "cell_type": "code",
   "execution_count": 57,
   "metadata": {},
   "outputs": [
    {
     "data": {
      "text/html": [
       "<div>\n",
       "<style scoped>\n",
       "    .dataframe tbody tr th:only-of-type {\n",
       "        vertical-align: middle;\n",
       "    }\n",
       "\n",
       "    .dataframe tbody tr th {\n",
       "        vertical-align: top;\n",
       "    }\n",
       "\n",
       "    .dataframe thead th {\n",
       "        text-align: right;\n",
       "    }\n",
       "</style>\n",
       "<table border=\"1\" class=\"dataframe\">\n",
       "  <thead>\n",
       "    <tr style=\"text-align: right;\">\n",
       "      <th></th>\n",
       "      <th>command_name</th>\n",
       "      <th>num_chars</th>\n",
       "    </tr>\n",
       "    <tr>\n",
       "      <th>command_id</th>\n",
       "      <th></th>\n",
       "      <th></th>\n",
       "    </tr>\n",
       "  </thead>\n",
       "  <tbody>\n",
       "    <tr>\n",
       "      <th>1</th>\n",
       "      <td>alert me by flashing the lights</td>\n",
       "      <td>31</td>\n",
       "    </tr>\n",
       "    <tr>\n",
       "      <th>2</th>\n",
       "      <td>open my window for me</td>\n",
       "      <td>21</td>\n",
       "    </tr>\n",
       "    <tr>\n",
       "      <th>3</th>\n",
       "      <td>increase volume on my speaker</td>\n",
       "      <td>29</td>\n",
       "    </tr>\n",
       "    <tr>\n",
       "      <th>4</th>\n",
       "      <td>order me a macchiato</td>\n",
       "      <td>20</td>\n",
       "    </tr>\n",
       "    <tr>\n",
       "      <th>5</th>\n",
       "      <td>put the curtains down</td>\n",
       "      <td>21</td>\n",
       "    </tr>\n",
       "    <tr>\n",
       "      <th>6</th>\n",
       "      <td>order me a americano</td>\n",
       "      <td>20</td>\n",
       "    </tr>\n",
       "    <tr>\n",
       "      <th>7</th>\n",
       "      <td>close my window</td>\n",
       "      <td>15</td>\n",
       "    </tr>\n",
       "    <tr>\n",
       "      <th>8</th>\n",
       "      <td>upload a picture to Imgur</td>\n",
       "      <td>25</td>\n",
       "    </tr>\n",
       "    <tr>\n",
       "      <th>9</th>\n",
       "      <td>open my curtains</td>\n",
       "      <td>16</td>\n",
       "    </tr>\n",
       "    <tr>\n",
       "      <th>10</th>\n",
       "      <td>ask my vacuum to return to base</td>\n",
       "      <td>31</td>\n",
       "    </tr>\n",
       "  </tbody>\n",
       "</table>\n",
       "</div>"
      ],
      "text/plain": [
       "                               command_name  num_chars\n",
       "command_id                                            \n",
       "1           alert me by flashing the lights         31\n",
       "2                     open my window for me         21\n",
       "3             increase volume on my speaker         29\n",
       "4                      order me a macchiato         20\n",
       "5                     put the curtains down         21\n",
       "6                      order me a americano         20\n",
       "7                           close my window         15\n",
       "8                 upload a picture to Imgur         25\n",
       "9                          open my curtains         16\n",
       "10          ask my vacuum to return to base         31"
      ]
     },
     "execution_count": 57,
     "metadata": {},
     "output_type": "execute_result"
    }
   ],
   "source": [
    "import pandas as pd\n",
    "df = pd.DataFrame()\n",
    "df[\"command_name\"] = all_commands\n",
    "df[\"command_id\"] = range(1,len(all_commands)+1)\n",
    "df[\"num_chars\"] = [len(command) for command in all_commands]\n",
    "df = df.set_index('command_id')\n",
    "df.to_csv('csvs/commands_v1.csv')\n",
    "df.head(10)"
   ]
  },
  {
   "cell_type": "markdown",
   "metadata": {},
   "source": [
    "#### saving as .mat file"
   ]
  },
  {
   "cell_type": "code",
   "execution_count": 48,
   "metadata": {},
   "outputs": [],
   "source": [
    "import scipy.io as sio\n",
    "sio.savemat('commands.mat', {\"command_name\": all_commands, \n",
    "                             \"command_id\" : range(len(all_commands)),\n",
    "                             \"num_chars\": [len(command) for command in all_commands]}) "
   ]
  },
  {
   "cell_type": "code",
   "execution_count": null,
   "metadata": {},
   "outputs": [],
   "source": []
  }
 ],
 "metadata": {
  "kernelspec": {
   "display_name": "Python 3",
   "language": "python",
   "name": "python3"
  },
  "language_info": {
   "codemirror_mode": {
    "name": "ipython",
    "version": 3
   },
   "file_extension": ".py",
   "mimetype": "text/x-python",
   "name": "python",
   "nbconvert_exporter": "python",
   "pygments_lexer": "ipython3",
   "version": "3.7.3"
  }
 },
 "nbformat": 4,
 "nbformat_minor": 2
}
