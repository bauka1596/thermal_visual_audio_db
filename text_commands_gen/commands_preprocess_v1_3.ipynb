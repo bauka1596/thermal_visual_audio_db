{
 "cells": [
  {
   "cell_type": "markdown",
   "metadata": {},
   "source": [
    "#### retreving all dataset.tt files and their commands "
   ]
  },
  {
   "cell_type": "code",
   "execution_count": 1,
   "metadata": {},
   "outputs": [],
   "source": [
    "import glob\n",
    "import re\n",
    "import pandas as pd\n",
    "import numpy as np\n",
    "\n",
    "path = 'c:/users/akmaral/documents/issai/thingpedia-common-devices-master/'\n",
    "file_paths = [f for f in glob.glob(path + '**/dataset.tt', recursive=True)]"
   ]
  },
  {
   "cell_type": "code",
   "execution_count": 6,
   "metadata": {},
   "outputs": [],
   "source": [
    "strs = []\n",
    "for file_path in file_paths:\n",
    "    f = open(file_path, \"r\")\n",
    "    file_content = f.readlines()\n",
    "    strs.append(file_content)"
   ]
  },
  {
   "cell_type": "code",
   "execution_count": 7,
   "metadata": {},
   "outputs": [
    {
     "data": {
      "text/plain": [
       "['dataset @ca.randomfox language \"en\" {\\n',\n",
       " '    query  := @ca.randomfox.floof()\\n',\n",
       " '    #_[utterances=[\"fox pictures\",\\n',\n",
       " '                   \"a picture of a fox\",\\n',\n",
       " '                   \"a random fox\",\\n',\n",
       " '                   \"a random fox picture\"]]\\n',\n",
       " '    #[id=53477582]\\n',\n",
       " '    #[name=\"RandomFoxPicture\"];\\n',\n",
       " '\\n',\n",
       " '}']"
      ]
     },
     "execution_count": 7,
     "metadata": {},
     "output_type": "execute_result"
    }
   ],
   "source": [
    "strs[0]"
   ]
  },
  {
   "cell_type": "code",
   "execution_count": 4,
   "metadata": {},
   "outputs": [
    {
     "data": {
      "text/plain": [
       "'\\nfor l in strs:\\n    for s in l:\\n        if \\'Enum\\' in s:\\n            print(\"blah: \",s)\\n            s_temp = s.replace(\\'Enum\\', \\'BLAH\\')\\n            if \\'Enum\\' in s_temp:\\n                print(s)\\n'"
      ]
     },
     "execution_count": 4,
     "metadata": {},
     "output_type": "execute_result"
    }
   ],
   "source": [
    "'''\n",
    "for l in strs:\n",
    "    for s in l:\n",
    "        if 'Enum' in s:\n",
    "            print(\"blah: \",s)\n",
    "            s_temp = s.replace('Enum', 'BLAH')\n",
    "            if 'Enum' in s_temp:\n",
    "                print(s)\n",
    "'''"
   ]
  },
  {
   "cell_type": "code",
   "execution_count": 8,
   "metadata": {},
   "outputs": [],
   "source": [
    "def get_enum_values(contents, start_idx):\n",
    "    l = contents[start_idx:].find(\"Enum(\")\n",
    "    r = contents[start_idx:].find(\")\")\n",
    "    enum_values = []\n",
    "    if (int(l) != -1 and int(r) != -1 and r > l): \n",
    "        enum_values = contents[start_idx:][l+len(\"Enum(\"):r]\n",
    "        enum_values = enum_values.split(\",\")\n",
    "    return enum_values\n",
    "\n",
    "def find_var(command):\n",
    "    l = command.find('$')\n",
    "    r = command.find(' ', l, len(command))\n",
    "    if(r == -1): r = command.find('\"', l, len(command))\n",
    "    if(r == -1): r = command.find(',', l, len(command))\n",
    "    if(r == -1): r = command.find('.', l, len(command))\n",
    "    res = command[l:r]\n",
    "    return res\n",
    "\n",
    "def subst_enum(utterances, enum_vals):\n",
    "    result = []\n",
    "    for command in utterances:\n",
    "        if ('$' in command and len(enum_vals) > 0):\n",
    "            var_name = find_var(command)\n",
    "            for enum_val in enum_vals:\n",
    "                command_rep = command.replace(var_name,enum_val)\n",
    "                if ('$' not in command_rep): \n",
    "                    result.append(command_rep.strip().replace('\"',''))\n",
    "        elif ('$' not in command):\n",
    "            result.append(command.strip().replace('\"',''))\n",
    "    return result\n",
    "\n",
    "def get_filename(file_path):\n",
    "    rev = ''\n",
    "    i = int(len(file_path)-12)\n",
    "    while (file_path[i] != '/'):\n",
    "        rev += file_path[i]\n",
    "        i -= 1\n",
    "    res = ''.join(reversed(rev))\n",
    "    return res\n",
    "\n",
    "def check_str(char):\n",
    "    if (char != ' ' and char != '\"' and char != '(' and char != ')' and char != ',' and char != '{' and char != '}'):\n",
    "        return True\n",
    "    else:\n",
    "        return False\n",
    "\n",
    "def conv_num(temp):\n",
    "    if temp == \"eighteen degrees\": return 18\n",
    "    if temp == \"twenty degrees\": return 20\n",
    "    if temp == \"twenty three degrees\": return 23\n",
    "    if temp == \"twenty five degrees\": return 25\n",
    "    return -1\n",
    "    \n",
    "def check_logic(temp1, temp2, low, high):\n",
    "    t_low = conv_num(low)\n",
    "    t_high = conv_num(high)\n",
    "    if (\"p_low\" in temp1 and \"p_high\" in temp2 and t_low >= t_high): return False\n",
    "    return True\n",
    "    \n",
    "def check_df(var_name, var_type, file_name):\n",
    "    global var_df, df_ind\n",
    "    if df_ind == 0: return True\n",
    "    for ind in range(df_ind):\n",
    "        if (var_df[\"var_name\"].iloc[ind] == var_name and var_df[\"var_type\"].iloc[ind] == var_type and var_df[\"file_name\"].iloc[ind] == file_name):\n",
    "            return False\n",
    "    return True\n",
    "\n",
    "def add_df(contents, i, j, st_ind, file_name):\n",
    "    if (st_ind == j): return\n",
    "    #l = contents[i:][st_ind:].find(\"p_\")\n",
    "    l = contents[i:].find(\"p_\", st_ind, j)\n",
    "    if (contents[i:][l-1] != ' ' and contents[i:][l-1] != '('): return\n",
    "    res_name = ''\n",
    "    res_type = ''\n",
    "    while (l < j and check_str(contents[i:][l])):\n",
    "        res_name += contents[i:][l]\n",
    "        l += 1\n",
    "    l += 2\n",
    "    while (l < j and check_str(contents[i:][l])):\n",
    "        res_type += contents[i:][l]\n",
    "        l += 1\n",
    "    global df_ind, var_df\n",
    "    if (\"p_\" in res_name and len(res_type) > 3 and check_df(res_name, res_type, file_name)):\n",
    "        var_df.loc[df_ind, \"var_name\"] = res_name\n",
    "        var_df.loc[df_ind, \"var_type\"] = res_type\n",
    "        var_df.loc[df_ind, \"file_name\"] = file_name\n",
    "        var_df.loc[df_ind, \"var_ind\"] = df_ind+1\n",
    "        df_ind += 1\n",
    "        add_df(contents, i, j, l, file_name)\n",
    "        \n",
    "def subst_var(utterances, file_name, enum_vals):\n",
    "    result = []\n",
    "    for command in utterances:\n",
    "        if ('$' in command):\n",
    "            var_name = find_var(command)\n",
    "            temp_var = var_df[var_df.file_name == file_name].copy()\n",
    "            for i in range(len(temp_var)):\n",
    "                df_name = temp_var[\"var_name\"].iloc[i]\n",
    "                df_values = temp_var[\"var_values\"].iloc[i]\n",
    "                l = var_name.find(df_name)\n",
    "                if (l != -1 and df_values != \"NA\"):\n",
    "                    for j in df_values:\n",
    "                        command_rep = command.replace(var_name, j)\n",
    "                        if ('$' not in command_rep):\n",
    "                            result.append(command_rep.strip().replace('\"',''))\n",
    "                        else:\n",
    "                            var_name_k = find_var(command_rep)\n",
    "                            for k in range(len(temp_var)):                                    \n",
    "                                df_name_k = temp_var[\"var_name\"].iloc[k]\n",
    "                                df_values_k = temp_var[\"var_values\"].iloc[k]\n",
    "                                t = var_name_k.find(df_name_k)\n",
    "                                if (t != -1 and df_values_k != \"NA\"):\n",
    "                                    for m in df_values_k:\n",
    "                                        if(check_logic(var_name, var_name_k, j, m)):\n",
    "                                            command_rep_k = command_rep.replace(var_name_k, m)\n",
    "                                            if('$' not in command_rep_k):\n",
    "                                                result.append(command_rep_k.strip().replace('\"',''))\n",
    "                                elif (t != -1 and len(enum_vals) > 0):\n",
    "                                    for enum_val in enum_vals:\n",
    "                                        command_rep = command.replace(var_name,enum_val)\n",
    "                                        if ('$' not in command_rep): \n",
    "                                            result.append(command_rep.strip().replace('\"',''))\n",
    "                elif (l != -1 and len(enum_vals) > 0):\n",
    "                    for enum_val in enum_vals:\n",
    "                        command_rep = command.replace(var_name,enum_val)\n",
    "                        if ('$' not in command_rep): \n",
    "                            result.append(command_rep.strip().replace('\"',''))\n",
    "                        else:\n",
    "                            var_name_k = find_var(command_rep)\n",
    "                            for k in range(len(temp_var)):\n",
    "                                df_name_k = temp_var[\"var_name\"].iloc[k]\n",
    "                                df_values_k = temp_var[\"var_values\"].iloc[k]\n",
    "                                t = var_name_k.find(df_name_k)\n",
    "                                if (t != -1 and df_values_k != \"NA\"):\n",
    "                                    for m in df_values_k:\n",
    "                                        if(check_logic(var_name, var_name_k, j, m)):\n",
    "                                            command_rep_k = command_rep.replace(var_name_k, m)\n",
    "                                            if('$' not in command_rep_k):\n",
    "                                                result.append(command_rep_k.strip().replace('\"',''))\n",
    "                            #temp_res = subst_var(command_rep, file_name)\n",
    "                            #result = result + temp_res\n",
    "        #elif ('$' not in command):\n",
    "        #    result.append(command.strip().replace('\"',''))\n",
    "    return result\n",
    "\n",
    "def collect_variables(file_paths, command_type):\n",
    "    for file_path in file_paths:\n",
    "        f = open(file_path, \"r\")\n",
    "        file_content = f.read()\n",
    "        command_start_idx_lst = [i for i in range(len(file_content)) if file_content.startswith(command_type, i)]\n",
    "        file_name = get_filename(file_path)\n",
    "        for i in command_start_idx_lst:   \n",
    "            j = file_content[i:].find(\"#_[utterances=[\")\n",
    "            add_df(file_content, i, j, 0, file_name)\n",
    "                \n",
    "def collect_commands(file_paths, command_type):\n",
    "    commands_list = []\n",
    "    for file_path in file_paths:\n",
    "        f = open(file_path, \"r\")\n",
    "        file_content = f.read()\n",
    "        command_start_idx_lst = [i for i in range(len(file_content)) if file_content.startswith(command_type, i)]\n",
    "        variable_set = []\n",
    "        file_name = get_filename(file_path)\n",
    "        for i in command_start_idx_lst:   \n",
    "            j = file_content[i:].find(\"#_[utterances=[\")\n",
    "            k = file_content[i:].find(\"]]\")\n",
    "            utterances = file_content[i:][j+len(\"#_[utterances=[\"):k]\n",
    "            utterances = utterances.split(',')\n",
    "            commands = []\n",
    "            enum_vals = get_enum_values(file_content, i)\n",
    "            commands = subst_var(utterances, file_name, enum_vals)\n",
    "            '''\n",
    "            if(len(enum_vals) > 0): \n",
    "                commands = subst_enum(utterances, enum_vals)\n",
    "            else: \n",
    "                #commands = [action_str.strip().replace('\"','') for action_str in utterances if (action_str.strip().replace('\"','') and ('$' not in action_str))]\n",
    "                commands = subst_var(utterances, file_name)\n",
    "            '''\n",
    "            commands_list = commands_list + commands\n",
    "    return commands_list   "
   ]
  },
  {
   "cell_type": "code",
   "execution_count": 9,
   "metadata": {},
   "outputs": [
    {
     "name": "stdout",
     "output_type": "stream",
     "text": [
      "number of all action commands:  124\n",
      "number of all unique action commands:  112\n",
      "number of all query commands:  265\n",
      "number of all unique query commands:  265\n",
      "here is the first query command:  a random cat fact\n"
     ]
    }
   ],
   "source": [
    "df_ind = 0;\n",
    "var_df = pd.DataFrame(columns = [\"var_name\",\"var_type\",\"file_name\", \"var_ind\", \"var_values\"])\n",
    "\n",
    "collect_variables(file_paths, 'action')\n",
    "collect_variables(file_paths, 'query')\n",
    "\n",
    "for i in range(len(var_df)):\n",
    "    var_df.loc[i, \"var_values\"] = \"NA\"\n",
    "'''\n",
    "var_df.loc[39, \"var_values\"] = [\"zero\", \"fifty\", \"eighty\", \"hundred\"]\n",
    "var_df.loc[40, \"var_values\"] = [\"eighteen degrees\", \"twenty degrees\", \"twenty three degrees\", \"twenty five degrees\"]\n",
    "var_df.loc[41, \"var_values\"] = [\"eighteen degrees\", \"twenty degrees\", \"twenty three degrees\", \"twenty five degrees\"]\n",
    "var_df.loc[42, \"var_values\"] = [\"eighteen degrees\", \"twenty degrees\", \"twenty three degrees\", \"twenty five degrees\"]\n",
    "var_df.loc[47, \"var_values\"] = [\"zero\", \"fifty\", \"eighty\", \"hundred\"]\n",
    "var_df.loc[72, \"var_values\"] = [\"eighteen degrees\", \"twenty degrees\", \"twenty three degrees\", \"twenty five degrees\"]\n",
    "var_df.loc[84, \"var_values\"] = [\"one\", \"two\", \"five\"]\n",
    "var_df.loc[85, \"var_values\"] = [\"pi\", \"three\", \"seven\"]\n",
    "var_df.loc[86, \"var_values\"] = [\"twenty nineteen\", \"twenty twenty\", \"twenty twelve\"]\n",
    "var_df.loc[88, \"var_values\"] = [\"one gigabyte\", \"five gigabytes\", \"hundred megabytes\"]\n",
    "var_df.loc[97, \"var_values\"] = [\"five\", \"ten\", \"three\"]\n",
    "var_df.loc[123, \"var_values\"] = [\"three\", \"five\", \"ten\"]\n",
    "var_df.loc[135, \"var_values\"] = [\"three\", \"five\", \"ten\"]\n",
    "var_df.loc[136, \"var_values\"] = [\"hundred\", \"five hundred\", \"thousand\"]\n",
    "var_df.loc[143, \"var_values\"] = [\"To do list\", \"Work list\", \"Homework list\"]\n",
    "var_df.loc[144, \"var_values\"] = [\"three days\", \"seven days\", \"ten days\"]\n",
    "var_df.loc[32, \"var_values\"] = [\"Jingle Bells\", \"Despacito\", \"Rolling in the deep\"]\n",
    "var_df.loc[33, \"var_values\"] = [\"thirty\", \"ten\", \"fifty\"]\n",
    "var_df.loc[36, \"var_values\"] = [\"Favourite songs\", \"Dance mood\", \"Sad songs\"]\n",
    "var_df.loc[37, \"var_values\"] = [\"Adele\", \"Frank Sinatra\", \"David Bowie\"]\n",
    "var_df.loc[38, \"var_values\"] = [\"Abbey Road\", \"Parachutes\", \"Meteora\"]\n",
    "var_df.loc[146, \"var_values\"] = [\"Family\", \"Friends\", \"Trips\"]\n",
    "var_df.loc[159, \"var_values\"] = [\"Physics\", \"Mathematics\", \"Computer Science\", \"Economics\"]\n",
    "var_df.loc[87, \"var_values\"] = [\"pdf\", \"jpg\", \"doc\"]\n",
    "var_df.loc[98, \"var_values\"] = [\"Normal\", \"Clarendon\", \"Gingham\"]\n",
    "var_df.loc[106, \"var_values\"] = [\"English\", \"Spanish\", \"Russian\"]\n",
    "var_df.loc[145, \"var_values\"] = [\"Bitcoin\", \"Litecoin\", \"Ethereum\"]\n",
    "'''\n",
    "var_df.loc[90, \"var_values\"] = [\"New York\", \"London\", \"Tokyo\"]\n",
    "var_df.loc[154, \"var_values\"] = [\"living room\", \"dining room\", \"bathroom\"]\n",
    "var_df.loc[152, \"var_values\"] = [\"bedroom\", \"kitchen\", \"guest room\"]\n",
    "\n",
    "commands_action =  collect_commands(file_paths, 'action')\n",
    "commands_query =  collect_commands(file_paths, 'query')\n",
    "\n",
    "print(\"number of all action commands: \",len(commands_action))\n",
    "print(\"number of all unique action commands: \",len(set(commands_action)))\n",
    "#print(\"here is the first action command: \", commands_action[0])\n",
    "print(\"number of all query commands: \",len(commands_query))\n",
    "print(\"number of all unique query commands: \",len(set(commands_query)))\n",
    "print(\"here is the first query command: \", commands_query[0])\n",
    "var_df = var_df.set_index('var_ind')\n",
    "var_df.to_csv('csvs/additional_commands_v2.csv')"
   ]
  },
  {
   "cell_type": "code",
   "execution_count": 10,
   "metadata": {},
   "outputs": [
    {
     "name": "stdout",
     "output_type": "stream",
     "text": [
      "[]\n",
      "[]\n"
     ]
    }
   ],
   "source": [
    "#check if there are numbers in any command\n",
    "print([c for c in commands_action if (len(re.findall(r'\\d+',c))>0)])\n",
    "print([c for c in commands_query if (len(re.findall(r'\\d+',c))>0)])"
   ]
  },
  {
   "cell_type": "code",
   "execution_count": 11,
   "metadata": {},
   "outputs": [],
   "source": [
    "#removing short commands\n",
    "commands_query_f = [l for l in commands_query if (len(l)>2)]\n",
    "commands_query_f = [l for l in commands_query_f if (len(l.split())>1)]"
   ]
  },
  {
   "cell_type": "code",
   "execution_count": 12,
   "metadata": {},
   "outputs": [],
   "source": [
    "new_commands_query_f = []\n",
    "for c in commands_query_f:\n",
    "    if \"matrix67\" in c:\n",
    "        c = c.replace('matrix67','matrix sixty seven')\n",
    "        print(c)\n",
    "    if \"cs294\" in c:\n",
    "        c = c.replace('cs294','cs two nine four ')\n",
    "        print(c)\n",
    "    new_commands_query_f.append(c)"
   ]
  },
  {
   "cell_type": "code",
   "execution_count": 13,
   "metadata": {},
   "outputs": [
    {
     "name": "stdout",
     "output_type": "stream",
     "text": [
      "377\n"
     ]
    }
   ],
   "source": [
    "all_commands =  list(set(commands_action))+ list(set(new_commands_query_f))\n",
    "print(len(all_commands))"
   ]
  },
  {
   "cell_type": "markdown",
   "metadata": {},
   "source": [
    "#### saving as .csv file"
   ]
  },
  {
   "cell_type": "code",
   "execution_count": 36,
   "metadata": {
    "scrolled": false
   },
   "outputs": [
    {
     "data": {
      "text/html": [
       "<div>\n",
       "<style scoped>\n",
       "    .dataframe tbody tr th:only-of-type {\n",
       "        vertical-align: middle;\n",
       "    }\n",
       "\n",
       "    .dataframe tbody tr th {\n",
       "        vertical-align: top;\n",
       "    }\n",
       "\n",
       "    .dataframe thead th {\n",
       "        text-align: right;\n",
       "    }\n",
       "</style>\n",
       "<table border=\"1\" class=\"dataframe\">\n",
       "  <thead>\n",
       "    <tr style=\"text-align: right;\">\n",
       "      <th></th>\n",
       "      <th>command_name</th>\n",
       "      <th>num_chars</th>\n",
       "    </tr>\n",
       "    <tr>\n",
       "      <th>command_id</th>\n",
       "      <th></th>\n",
       "      <th></th>\n",
       "    </tr>\n",
       "  </thead>\n",
       "  <tbody>\n",
       "    <tr>\n",
       "      <th>1</th>\n",
       "      <td>meme template named Tokyo</td>\n",
       "      <td>25</td>\n",
       "    </tr>\n",
       "    <tr>\n",
       "      <th>2</th>\n",
       "      <td>meme templates in imgflip whose name contains ...</td>\n",
       "      <td>52</td>\n",
       "    </tr>\n",
       "    <tr>\n",
       "      <th>3</th>\n",
       "      <td>if my guest room heat sensor is hot or cold</td>\n",
       "      <td>43</td>\n",
       "    </tr>\n",
       "    <tr>\n",
       "      <th>4</th>\n",
       "      <td>if the room is occupied according to my living...</td>\n",
       "      <td>58</td>\n",
       "    </tr>\n",
       "    <tr>\n",
       "      <th>5</th>\n",
       "      <td>meme templates in imgflip whose name contains ...</td>\n",
       "      <td>51</td>\n",
       "    </tr>\n",
       "    <tr>\n",
       "      <th>6</th>\n",
       "      <td>whether the living room is detected as occupie...</td>\n",
       "      <td>81</td>\n",
       "    </tr>\n",
       "    <tr>\n",
       "      <th>7</th>\n",
       "      <td>if the guest room heat sensor is hot</td>\n",
       "      <td>36</td>\n",
       "    </tr>\n",
       "    <tr>\n",
       "      <th>8</th>\n",
       "      <td>if the bedroom heat sensor is hot</td>\n",
       "      <td>33</td>\n",
       "    </tr>\n",
       "    <tr>\n",
       "      <th>9</th>\n",
       "      <td>whether my living room sensor says the bedroom...</td>\n",
       "      <td>67</td>\n",
       "    </tr>\n",
       "    <tr>\n",
       "      <th>10</th>\n",
       "      <td>if the kitchen heat sensor is cold</td>\n",
       "      <td>34</td>\n",
       "    </tr>\n",
       "  </tbody>\n",
       "</table>\n",
       "</div>"
      ],
      "text/plain": [
       "                                                 command_name  num_chars\n",
       "command_id                                                              \n",
       "1                                   meme template named Tokyo         25\n",
       "2           meme templates in imgflip whose name contains ...         52\n",
       "3                 if my guest room heat sensor is hot or cold         43\n",
       "4           if the room is occupied according to my living...         58\n",
       "5           meme templates in imgflip whose name contains ...         51\n",
       "6           whether the living room is detected as occupie...         81\n",
       "7                        if the guest room heat sensor is hot         36\n",
       "8                           if the bedroom heat sensor is hot         33\n",
       "9           whether my living room sensor says the bedroom...         67\n",
       "10                         if the kitchen heat sensor is cold         34"
      ]
     },
     "execution_count": 36,
     "metadata": {},
     "output_type": "execute_result"
    }
   ],
   "source": [
    "import pandas as pd\n",
    "df = pd.DataFrame()\n",
    "df[\"command_name\"] = all_commands\n",
    "df[\"command_id\"] = range(1,len(all_commands)+1)\n",
    "df[\"num_chars\"] = [len(command) for command in all_commands]\n",
    "df = df.set_index('command_id')\n",
    "df.to_csv('csvs/additional_commands_v1.csv')\n",
    "df.head(10)"
   ]
  },
  {
   "cell_type": "code",
   "execution_count": null,
   "metadata": {},
   "outputs": [],
   "source": [
    "! cat csvs/additional_commands_v1.csv | tr '_' ' ' > csvs/additional_commands_v3.csv"
   ]
  },
  {
   "cell_type": "code",
   "execution_count": 55,
   "metadata": {},
   "outputs": [
    {
     "name": "stdout",
     "output_type": "stream",
     "text": [
      " ’®¬ ў гбва®©бвўҐ C Ё¬ҐҐв ¬ҐвЄг Windows \n",
      " ‘ҐаЁ©­л© ­®¬Ґа в®¬ : 12BE-D1B7\n",
      "\n",
      " ‘®¤Ґа¦Ё¬®Ґ Ї ЇЄЁ C:\\Users\\Akmaral\\Documents\\ISSAI\\Madina\\thermal_visual_audio_db-master\\text_commands_gen\n",
      "\n",
      "13.12.2019  14:31    <DIR>          .\n",
      "13.12.2019  14:31    <DIR>          ..\n",
      "13.12.2019  12:36    <DIR>          .ipynb_checkpoints\n",
      "13.12.2019  12:36            21я476 commands_expr.ipynb\n",
      "13.12.2019  12:36            10я380 commands_preprocess.ipynb\n",
      "13.12.2019  12:36            13я439 commands_preprocess_v1.ipynb\n",
      "13.12.2019  12:36            28я995 commands_preprocess_v1_1.ipynb\n",
      "13.12.2019  12:36            24я767 commands_preprocess_v1_2.ipynb\n",
      "13.12.2019  14:31            24я549 commands_preprocess_v1_3.ipynb\n",
      "13.12.2019  14:29    <DIR>          csvs\n",
      "13.12.2019  12:37    <DIR>          thingpedia-common-devices-master\n",
      "13.12.2019  12:36             6я148 _DS_Store\n",
      "               7 д ©«®ў        129я754 Ў ©в\n",
      "               5 Ї Ї®Є  103я741я300я736 Ў ©в бў®Ў®¤­®\n"
     ]
    }
   ],
   "source": []
  },
  {
   "cell_type": "code",
   "execution_count": null,
   "metadata": {},
   "outputs": [],
   "source": [
    "! head csvs/additional_commands_v3.csv"
   ]
  },
  {
   "cell_type": "code",
   "execution_count": null,
   "metadata": {},
   "outputs": [],
   "source": [
    "! cat csvs/additional_commands_v3.csv | grep '_'"
   ]
  },
  {
   "cell_type": "code",
   "execution_count": null,
   "metadata": {},
   "outputs": [],
   "source": [
    "! cat csvs/additional_commands_v3.csv | sed \"s/zero %/zero percent/g\" | sed 's/%/percents/g' > csvs/additional_commands_v4.csv"
   ]
  },
  {
   "cell_type": "code",
   "execution_count": null,
   "metadata": {},
   "outputs": [],
   "source": [
    "! cat csvs/additional_commands_v4.csv | grep 'percent' "
   ]
  },
  {
   "cell_type": "code",
   "execution_count": null,
   "metadata": {},
   "outputs": [],
   "source": [
    "! cat csvs/action_phrases_copy.txt | tr '_' ' ' > csvs/action_phrases"
   ]
  },
  {
   "cell_type": "markdown",
   "metadata": {},
   "source": [
    "#### saving as .mat file"
   ]
  },
  {
   "cell_type": "code",
   "execution_count": null,
   "metadata": {},
   "outputs": [],
   "source": [
    "import scipy.io as sio\n",
    "sio.savemat('commands.mat', {\"command_name\": all_commands, \n",
    "                             \"command_id\" : range(len(all_commands)),\n",
    "                             \"num_chars\": [len(command) for command in all_commands]}) "
   ]
  },
  {
   "cell_type": "code",
   "execution_count": null,
   "metadata": {},
   "outputs": [],
   "source": [
    "var_name = 'p_state'\n",
    "temp_df = var_df[var_df.var_name == var_name].copy()"
   ]
  },
  {
   "cell_type": "code",
   "execution_count": null,
   "metadata": {},
   "outputs": [],
   "source": [
    "a  =  np.array([1,2,3,4,5,6,7])\n",
    "a[a>5]"
   ]
  },
  {
   "cell_type": "code",
   "execution_count": null,
   "metadata": {},
   "outputs": [],
   "source": [
    "temp_df.var_type.iloc[0] = 'Blah'"
   ]
  },
  {
   "cell_type": "code",
   "execution_count": null,
   "metadata": {},
   "outputs": [],
   "source": [
    "temp_df"
   ]
  },
  {
   "cell_type": "code",
   "execution_count": null,
   "metadata": {},
   "outputs": [],
   "source": [
    "var_df[var_df.var_name == var_name]\n",
    "#for i in range(len(temp_df)):\n",
    "#    print(temp_df[\"var_type\"].iloc[i])"
   ]
  },
  {
   "cell_type": "code",
   "execution_count": null,
   "metadata": {},
   "outputs": [],
   "source": []
  }
 ],
 "metadata": {
  "kernelspec": {
   "display_name": "Python 3",
   "language": "python",
   "name": "python3"
  },
  "language_info": {
   "codemirror_mode": {
    "name": "ipython",
    "version": 3
   },
   "file_extension": ".py",
   "mimetype": "text/x-python",
   "name": "python",
   "nbconvert_exporter": "python",
   "pygments_lexer": "ipython3",
   "version": "3.6.8"
  }
 },
 "nbformat": 4,
 "nbformat_minor": 2
}
